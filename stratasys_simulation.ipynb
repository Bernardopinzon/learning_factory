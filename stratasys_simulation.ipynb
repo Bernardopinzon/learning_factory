{
 "cells": [
  {
   "cell_type": "code",
   "execution_count": 21,
   "metadata": {},
   "outputs": [],
   "source": [
    "import xml.etree.ElementTree as ET\n",
    "import pandas as pd\n",
    "import numpy as np\n",
    "from sqlalchemy import create_engine\n",
    "from datetime import datetime\n",
    "from datetime import timedelta"
   ]
  },
  {
   "cell_type": "markdown",
   "metadata": {},
   "source": [
    "# Functions"
   ]
  },
  {
   "cell_type": "code",
   "execution_count": 22,
   "metadata": {},
   "outputs": [],
   "source": [
    "# Function to load data to Mysql\n",
    "def load_MySQL(table_name,new_dataframe):\n",
    "\n",
    "    # Replace the following with your own database connection details\n",
    "    db_username = 'u134043424_user'\n",
    "    db_password = 'l4K#SF26Y=Q'\n",
    "    db_host = '45.152.46.52'\n",
    "    db_port = '3306'\n",
    "    db_name = 'u134043424_learning_db'\n",
    "\n",
    "    # Create the database engine\n",
    "    engine = create_engine(f'mysql+pymysql://{db_username}:{db_password}@{db_host}:{db_port}/{db_name}')\n",
    "\n",
    "    # Load the DataFrame into MySQL table\n",
    "    new_dataframe.to_sql(name=table_name, con=engine, if_exists='replace', index=False, chunksize=100_000)\n",
    "\n",
    "    print(\"DataFrame has been loaded into the database.\")\n",
    "\n",
    "    return None"
   ]
  },
  {
   "cell_type": "code",
   "execution_count": 23,
   "metadata": {},
   "outputs": [],
   "source": [
    "# Function to get data from database\n",
    "def get_data(sql_query):\n",
    "    \n",
    "# Replace these variables with your actual database connection details\n",
    "    db_username = 'u134043424_user'\n",
    "    db_password = 'l4K#SF26Y=Q'\n",
    "    db_host = '45.152.46.52'\n",
    "    db_port = '3306'\n",
    "    db_name = 'u134043424_learning_db'\n",
    "\n",
    "    # Create the database engine\n",
    "    engine = create_engine(f'mysql+pymysql://{db_username}:{db_password}@{db_host}:{db_port}/{db_name}')\n",
    "\n",
    "    # Read the table into a pandas DataFrame\n",
    "    df = pd.read_sql_query(sql_query, con=engine)\n",
    "\n",
    "    return df"
   ]
  },
  {
   "cell_type": "code",
   "execution_count": 24,
   "metadata": {},
   "outputs": [],
   "source": [
    "# Function to create simulation\n",
    "# The parameters of the function can be change so it can semulate diferent values\n",
    "def create_simulation(date_start, # Its the date when the sumulation start\n",
    "                      date_finish, # Its the date when the sumulation finish\n",
    "                      mu = 1, # Its the middle value that the distribution its going to take\n",
    "                      sigma = 1, # Its the variance of the simulation\n",
    "                      min = 0, # Its the min value that the simulation can take\n",
    "                      max = 2): # Its the max value that the simulation can take\n",
    "\n",
    "    # Create date range\n",
    "    range_dates = pd.date_range(start=date_start, end=date_finish, freq='S')\n",
    "\n",
    "    # Create DataFrame\n",
    "    df_dates = pd.DataFrame(range_dates, columns=['timestamp'])\n",
    "\n",
    "    # Generate the random normal distribution\n",
    "    random_num = np.random.normal(mu, sigma, size=len(df_dates))\n",
    "\n",
    "    # Add column to DataFrame\n",
    "    df_dates['value'] = random_num\n",
    "\n",
    "    df_dates['value'] = np.where(df_dates['value'] < min, min, df_dates['value'])\n",
    "\n",
    "    df_dates['value'] = np.where(df_dates['value'] > max, max, df_dates['value'])\n",
    "    \n",
    "    return df_dates\n"
   ]
  },
  {
   "cell_type": "code",
   "execution_count": 25,
   "metadata": {},
   "outputs": [],
   "source": [
    "# Funcrion to adjust dataframe to XML data structure\n",
    "def complete_df(df1, df2, deviceName, deviceUuid, component, componentName, componentId, measurementType, dataItemId, name, sequence):\n",
    "    dft = pd.concat([df1, df2])\n",
    "    dft['deviceName'] = deviceName\n",
    "    dft['deviceUuid'] = deviceUuid\n",
    "    dft['component'] = component\n",
    "    dft['componentName'] = componentName\n",
    "    dft['componentId'] = componentId\n",
    "    dft['measurementType'] = measurementType\n",
    "    dft['dataItemId'] = dataItemId\n",
    "    dft['name'] = name\n",
    "    dft['sequence'] = sequence\n",
    "    \n",
    "    dft = dft[['deviceName', 'deviceUuid', 'component', 'componentName', 'componentId', 'measurementType', 'dataItemId', 'timestamp', 'name', 'sequence', 'subType', 'value', 'mantenance']]\n",
    "    return dft"
   ]
  },
  {
   "cell_type": "markdown",
   "metadata": {},
   "source": [
    "# Read Data"
   ]
  },
  {
   "cell_type": "code",
   "execution_count": 26,
   "metadata": {},
   "outputs": [],
   "source": [
    "root = ET.parse('StratasysSample.xml')\n",
    "\n",
    "# Prepare a list to hold extracted data\n",
    "data = []\n",
    "\n",
    "# Iterate through each DeviceStream and its ComponentStreams\n",
    "for device_stream in root.findall('.//{urn:mtconnect.org:MTConnectStreams:1.5}DeviceStream'):\n",
    "    device_name = device_stream.attrib.get('name')\n",
    "    device_uuid = device_stream.attrib.get('uuid')\n",
    "    for component_stream in device_stream.findall('.//{urn:mtconnect.org:MTConnectStreams:1.5}ComponentStream'):\n",
    "        component = component_stream.attrib.get('component')\n",
    "        component_name = component_stream.attrib.get('name')\n",
    "        component_id = component_stream.attrib.get('componentId')\n",
    "        # Extract samples\n",
    "        for samples in component_stream.findall('.//{urn:mtconnect.org:MTConnectStreams:1.5}Samples'):\n",
    "            for sample in samples:\n",
    "                # Extract all attributes of the sample\n",
    "                sample_data = {attr: sample.attrib.get(attr) for attr in sample.attrib}\n",
    "                sample_data['value'] = sample.text\n",
    "                sample_data['componentName'] = component_name\n",
    "                sample_data['componentId'] = component_id\n",
    "                sample_data['deviceName'] = device_name\n",
    "                sample_data['deviceUuid'] = device_uuid\n",
    "                sample_data['component'] = component\n",
    "                sample_data['measurementType'] = sample.tag.split('}')[1]  # To get 'Amperage', 'Voltage', etc.\n",
    "                data.append(sample_data)\n",
    "\n",
    "# Convert the list of dictionaries into a DataFrame\n",
    "df = pd.DataFrame(data)\n",
    "\n",
    "df = df[['deviceName','deviceUuid','component','componentName','componentId','measurementType','dataItemId', 'timestamp', 'name', 'sequence', 'subType', 'value']].copy()"
   ]
  },
  {
   "cell_type": "markdown",
   "metadata": {},
   "source": [
    "## Create Tables"
   ]
  },
  {
   "cell_type": "code",
   "execution_count": 27,
   "metadata": {},
   "outputs": [],
   "source": [
    "# exploration of the table\n",
    "df_amperage_enclosure = df[(df['measurementType'] == 'Amperage')&(df['component'] == 'Enclosure')]\n",
    "df_amperage_linear = df[(df['measurementType'] == 'Amperage')&(df['component'] == 'Linear')]\n",
    "df_voltage = df[df['measurementType'] == 'Voltage']\n",
    "df_temperature = df[df['measurementType'] == 'Temperature']\n",
    "df_rotaryvelocity = df[df['measurementType'] == 'RotaryVelocity']\n",
    "df_powerfactor = df[df['measurementType'] == 'PowerFactor']"
   ]
  },
  {
   "cell_type": "markdown",
   "metadata": {},
   "source": [
    "# Simulation"
   ]
  },
  {
   "cell_type": "code",
   "execution_count": 28,
   "metadata": {},
   "outputs": [],
   "source": [
    "# Parameters of simulation\n",
    "number_of_days = 1\n",
    "start_date = (datetime.now()- timedelta(days=number_of_days,hours=0,minutes=0)).strftime('%Y-%m-%d %H:%M:%S')\n",
    "finish_date = (datetime.now()).strftime('%Y-%m-%d %H:%M:%S')"
   ]
  },
  {
   "cell_type": "markdown",
   "metadata": {},
   "source": [
    "## Temperature"
   ]
  },
  {
   "cell_type": "code",
   "execution_count": 29,
   "metadata": {},
   "outputs": [],
   "source": [
    "# Parameters of machine\n",
    "dataItemId = 'ovenHeater1Com'\n",
    "name = 'OvenHeater1CommandedTemperature'\n",
    "measurementType = 'Temperature'\n",
    "component = 'Enclosure'\n",
    "componentName = 'Oven'\n",
    "componentId = 'oven'\n",
    "mantenance_date = (datetime.now()- timedelta(days=number_of_days*(2/3))).strftime('%Y-%m-%d %H:%M:%S')\n",
    "deviceName = 'f170'\n",
    "deviceUuid = 'D12827'\n",
    "sequence = 22405688\n",
    "\n",
    "# Simulation\n",
    "df_targuet = create_simulation(start_date,finish_date, mu = 2, sigma = 1, min = 0, max = 2) \n",
    "df_targuet['subType'] = 'TARGET'\n",
    "df_targuet['mantenance'] = 0\n",
    "\n",
    "df_actual = create_simulation(start_date,finish_date, mu = 1, sigma = 0.5, min = 0, max = 2)\n",
    "df_actual['subType'] = 'ACTUAL'\n",
    "df_actual['mantenance'] = np.where(df_actual['timestamp']==mantenance_date, 1, 0)\n",
    "\n",
    "df_final1 = complete_df(df_targuet, df_actual, deviceName, deviceUuid, component, componentName, componentId, measurementType, dataItemId, name, sequence)"
   ]
  },
  {
   "cell_type": "code",
   "execution_count": 30,
   "metadata": {},
   "outputs": [],
   "source": [
    "# Parameters of machine\n",
    "dataItemId = 'ovenHeater2Com'\n",
    "name = 'OvenHeater2CommandedTemperature'\n",
    "measurementType = 'Temperature'\n",
    "component = 'Enclosure'\n",
    "componentName = 'Oven'\n",
    "componentId = 'oven'\n",
    "mantenance_date = (datetime.now()- timedelta(days=number_of_days*(1/3))).strftime('%Y-%m-%d %H:%M:%S')\n",
    "deviceName = 'f170'\n",
    "deviceUuid = 'D12827'\n",
    "sequence = 22405688\n",
    "\n",
    "# Simulation\n",
    "df_targuet = create_simulation(start_date,finish_date, mu = 2, sigma = 1, min = 0, max = 2)\n",
    "df_targuet['subType'] = 'TARGET'\n",
    "df_targuet['mantenance'] = 0\n",
    "\n",
    "df_actual = create_simulation(start_date,finish_date, mu = 1, sigma = 0.5, min = 0, max = 2)\n",
    "df_actual['subType'] = 'ACTUAL'\n",
    "df_actual['mantenance'] = np.where(df_actual['timestamp']==mantenance_date, 1, 0)\n",
    "\n",
    "df_final2 = complete_df(df_targuet, df_actual, deviceName, deviceUuid, component, componentName, componentId, measurementType, dataItemId, name, sequence)"
   ]
  },
  {
   "cell_type": "code",
   "execution_count": 31,
   "metadata": {},
   "outputs": [],
   "source": [
    "# Create temperature dataframe\n",
    "df_temperature = pd.concat([df_final1, df_final2])"
   ]
  },
  {
   "cell_type": "markdown",
   "metadata": {},
   "source": [
    "## Speed"
   ]
  },
  {
   "cell_type": "code",
   "execution_count": 32,
   "metadata": {},
   "outputs": [],
   "source": [
    "# Parameters of machine\n",
    "dataItemId = 'ovenBlower1Speed'\n",
    "name = 'OvenBlower1Speed'\n",
    "measurementType = 'RotaryVelocity'\n",
    "component = 'Enclosure'\n",
    "componentName = 'Oven'\n",
    "componentId = 'oven'\n",
    "mantenance_date = (datetime.now()- timedelta(days=number_of_days*(2/3))).strftime('%Y-%m-%d %H:%M:%S')\n",
    "deviceName = 'f170'\n",
    "deviceUuid = 'D12827'\n",
    "sequence = 22405688\n",
    "\n",
    "# Simulation\n",
    "df_targuet = create_simulation(start_date,finish_date, mu = 2, sigma = 1, min = 0, max = 2)\n",
    "df_targuet['subType'] = 'TARGET'\n",
    "df_targuet['mantenance'] = 0\n",
    "\n",
    "df_actual = create_simulation(start_date,finish_date, mu = 1, sigma = 0.5, min = 0, max = 2)\n",
    "df_actual['subType'] = 'ACTUAL'\n",
    "df_actual['mantenance'] = np.where(df_actual['timestamp']==mantenance_date, 1, 0)\n",
    "\n",
    "df_final1 = complete_df(df_targuet, df_actual, deviceName, deviceUuid, component, componentName, componentId, measurementType, dataItemId, name, sequence)"
   ]
  },
  {
   "cell_type": "code",
   "execution_count": 33,
   "metadata": {},
   "outputs": [],
   "source": [
    "# Parameters of machine\n",
    "dataItemId = 'ovenBlower2Speed'\n",
    "name = 'OvenBlower2Speed'\n",
    "measurementType = 'RotaryVelocity'\n",
    "component = 'Enclosure'\n",
    "componentName = 'Oven'\n",
    "componentId = 'oven'\n",
    "mantenance_date = (datetime.now()- timedelta(days=number_of_days*(1/3))).strftime('%Y-%m-%d %H:%M:%S')\n",
    "deviceName = 'f170'\n",
    "deviceUuid = 'D12827'\n",
    "sequence = 22405688\n",
    "\n",
    "# Simulation\n",
    "df_targuet = create_simulation(start_date,finish_date, mu = 2, sigma = 1, min = 0, max = 2)\n",
    "df_targuet['subType'] = 'TARGET'\n",
    "df_targuet['mantenance'] = 0\n",
    "\n",
    "df_actual = create_simulation(start_date,finish_date, mu = 1, sigma = 0.5, min = 0, max = 2)\n",
    "df_actual['subType'] = 'ACTUAL'\n",
    "df_actual['mantenance'] = np.where(df_actual['timestamp']==mantenance_date, 1, 0)\n",
    "\n",
    "df_final2 = complete_df(df_targuet, df_actual, deviceName, deviceUuid, component, componentName, componentId, measurementType, dataItemId, name, sequence)"
   ]
  },
  {
   "cell_type": "code",
   "execution_count": 34,
   "metadata": {},
   "outputs": [],
   "source": [
    "# create speed dataframe\n",
    "df_speed = pd.concat([df_final1, df_final2])"
   ]
  },
  {
   "cell_type": "markdown",
   "metadata": {},
   "source": [
    "## Linear"
   ]
  },
  {
   "cell_type": "code",
   "execution_count": 35,
   "metadata": {},
   "outputs": [],
   "source": [
    "# Parameters of machine\n",
    "dataItemId = 'x1Current'\n",
    "name = 'MotorCurrent'\n",
    "measurementType = 'Amperage'\n",
    "component = 'Linear'\n",
    "componentName = 'X'\n",
    "componentId = 'x1'\n",
    "mantenance_date = (datetime.now()- timedelta(days=number_of_days*(2/3))).strftime('%Y-%m-%d %H:%M:%S')\n",
    "deviceName = 'f170'\n",
    "deviceUuid = 'D12827'\n",
    "sequence = 22405688\n",
    "\n",
    "# Simulation\n",
    "df_targuet = create_simulation(start_date,finish_date, mu = 2, sigma = 1, min = 0, max = 2)\n",
    "df_targuet['subType'] = 'TARGET'\n",
    "df_targuet['mantenance'] = 0\n",
    "\n",
    "df_actual = create_simulation(start_date,finish_date, mu = 1, sigma = 0.5, min = 0, max = 2)\n",
    "df_actual['subType'] = 'ACTUAL'\n",
    "df_actual['mantenance'] = np.where(df_actual['timestamp']==mantenance_date, 1, 0)\n",
    "\n",
    "df_final1 = complete_df(df_targuet, df_actual, deviceName, deviceUuid, component, componentName, componentId, measurementType, dataItemId, name, sequence)"
   ]
  },
  {
   "cell_type": "code",
   "execution_count": 36,
   "metadata": {},
   "outputs": [],
   "source": [
    "# Parameters of machine\n",
    "dataItemId = 'z1Current'\n",
    "name = 'MotorCurrent'\n",
    "measurementType = 'Amperage'\n",
    "component = 'Linear'\n",
    "componentName = 'Z'\n",
    "componentId = 'z1'\n",
    "mantenance_date = (datetime.now()- timedelta(days=number_of_days*(2/3))).strftime('%Y-%m-%d %H:%M:%S')\n",
    "deviceName = 'f170'\n",
    "deviceUuid = 'D12827'\n",
    "sequence = 22405688\n",
    "\n",
    "# Simulation\n",
    "df_targuet = create_simulation(start_date,finish_date, mu = 2, sigma = 1, min = 0, max = 2)\n",
    "df_targuet['subType'] = 'TARGET'\n",
    "df_targuet['mantenance'] = 0\n",
    "\n",
    "df_actual = create_simulation(start_date,finish_date, mu = 1, sigma = 0.5, min = 0, max = 2)\n",
    "df_actual['subType'] = 'ACTUAL'\n",
    "df_actual['mantenance'] = np.where(df_actual['timestamp']==mantenance_date, 1, 0)\n",
    "\n",
    "df_final2 = complete_df(df_targuet, df_actual, deviceName, deviceUuid, component, componentName, componentId, measurementType, dataItemId, name, sequence)"
   ]
  },
  {
   "cell_type": "code",
   "execution_count": 37,
   "metadata": {},
   "outputs": [],
   "source": [
    "# Create linear dataframe\n",
    "df_linear = pd.concat([df_final1, df_final2])"
   ]
  },
  {
   "cell_type": "markdown",
   "metadata": {},
   "source": [
    "## Join all tables"
   ]
  },
  {
   "cell_type": "code",
   "execution_count": 38,
   "metadata": {},
   "outputs": [],
   "source": [
    "# Create final dataframe to load to MySQL\n",
    "df_final = pd.concat([df_temperature, df_speed, df_linear])"
   ]
  },
  {
   "cell_type": "markdown",
   "metadata": {},
   "source": [
    "# Load Data"
   ]
  },
  {
   "cell_type": "code",
   "execution_count": 39,
   "metadata": {},
   "outputs": [
    {
     "name": "stdout",
     "output_type": "stream",
     "text": [
      "Rows to load to MySQL: 1036812\n",
      "Expected time: 1.1923337999999999 minutes\n"
     ]
    }
   ],
   "source": [
    "print(\"Rows to load to MySQL:\", len(df_final))\n",
    "print(\"Expected time:\", (len(df_final)/1_000_000)*1.15, \"minutes\")"
   ]
  },
  {
   "cell_type": "code",
   "execution_count": 40,
   "metadata": {},
   "outputs": [
    {
     "name": "stdout",
     "output_type": "stream",
     "text": [
      "DataFrame has been loaded into the database.\n"
     ]
    }
   ],
   "source": [
    "# Load the data to MySQL\n",
    "load_MySQL('Stratasys',df_final)"
   ]
  }
 ],
 "metadata": {
  "kernelspec": {
   "display_name": "Python 3",
   "language": "python",
   "name": "python3"
  },
  "language_info": {
   "codemirror_mode": {
    "name": "ipython",
    "version": 3
   },
   "file_extension": ".py",
   "mimetype": "text/x-python",
   "name": "python",
   "nbconvert_exporter": "python",
   "pygments_lexer": "ipython3",
   "version": "3.11.8"
  }
 },
 "nbformat": 4,
 "nbformat_minor": 2
}
